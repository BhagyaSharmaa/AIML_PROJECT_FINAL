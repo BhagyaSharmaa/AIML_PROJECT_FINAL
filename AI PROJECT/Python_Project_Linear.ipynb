{
 "cells": [
  {
   "cell_type": "code",
   "execution_count": 1,
   "id": "82a49539",
   "metadata": {},
   "outputs": [
    {
     "ename": "ModuleNotFoundError",
     "evalue": "No module named 'numpy'",
     "output_type": "error",
     "traceback": [
      "\u001b[1;31m---------------------------------------------------------------------------\u001b[0m",
      "\u001b[1;31mModuleNotFoundError\u001b[0m                       Traceback (most recent call last)",
      "Cell \u001b[1;32mIn[1], line 1\u001b[0m\n\u001b[1;32m----> 1\u001b[0m \u001b[38;5;28;01mimport\u001b[39;00m \u001b[38;5;21;01mnumpy\u001b[39;00m \u001b[38;5;28;01mas\u001b[39;00m \u001b[38;5;21;01mnp\u001b[39;00m\n\u001b[0;32m      2\u001b[0m \u001b[38;5;28;01mimport\u001b[39;00m \u001b[38;5;21;01mpandas\u001b[39;00m \u001b[38;5;28;01mas\u001b[39;00m \u001b[38;5;21;01mpd\u001b[39;00m\n\u001b[0;32m      3\u001b[0m \u001b[38;5;28;01mimport\u001b[39;00m \u001b[38;5;21;01mmatplotlib\u001b[39;00m\u001b[38;5;21;01m.\u001b[39;00m\u001b[38;5;21;01mpyplot\u001b[39;00m \u001b[38;5;28;01mas\u001b[39;00m \u001b[38;5;21;01mplt\u001b[39;00m\n",
      "\u001b[1;31mModuleNotFoundError\u001b[0m: No module named 'numpy'"
     ]
    }
   ],
   "source": [
    "import numpy as np\n",
    "import pandas as pd\n",
    "import matplotlib.pyplot as plt\n",
    "from sklearn.datasets import make_classification\n",
    "from sklearn.model_selection import train_test_split\n",
    "from sklearn.linear_model import LinearRegression\n",
    "from sklearn.metrics import accuracy_score, classification_report\n",
    "from sklearn.preprocessing import StandardScaler\n",
    "from sklearn.metrics import mean_squared_error\n",
    "from sklearn.metrics import r2_score\n",
    "from sklearn.metrics import accuracy_score\n",
    "import warnings\n",
    "warnings.filterwarnings(\"ignore\", message=\"X has feature names, but LogisticRegression was fitted without feature names\")"
   ]
  },
  {
   "cell_type": "code",
   "execution_count": null,
   "id": "4eb26d30-3a33-4dce-99ec-eb63f18a4eb0",
   "metadata": {},
   "outputs": [],
   "source": [
    "!pip install numpy\n",
    "!pip install pandas \n",
    "pip install matplotlib"
   ]
  },
  {
   "cell_type": "code",
   "execution_count": null,
   "id": "7849d5d8",
   "metadata": {},
   "outputs": [],
   "source": [
    "# Load the dataset\n",
    "df=pd.read_csv('diabetes.csv')\n",
    "df.dropna()"
   ]
  },
  {
   "cell_type": "code",
   "execution_count": null,
   "id": "61ca4ebd",
   "metadata": {},
   "outputs": [],
   "source": [
    "# Standardize the features\n",
    "scaler = StandardScaler()\n",
    "df_scaled = scaler.fit_transform(df)\n",
    "X = df.drop(columns=\"Outcome\")\n",
    "Y=df[\"Outcome\"]\n",
    "\n",
    "#converting the data into numerical python arrays.\n",
    "X=np.array(X)\n",
    "Y=np.array(Y)\n",
    "\n",
    "# defining the scale for standardization again\n",
    "scaler = StandardScaler()\n",
    "\n",
    "# now fitting X according to the present scale.\n",
    "X= scaler.fit_transform(X)\n",
    "\n",
    "# partitioning data for training(80%) and testing(20%).\n",
    "X_train, X_test, Y_train, Y_test = train_test_split(X, Y, test_size=0.2, random_state=42)\n"
   ]
  },
  {
   "cell_type": "code",
   "execution_count": null,
   "id": "b76546e0",
   "metadata": {},
   "outputs": [],
   "source": [
    "# Train Linear Regression model\n",
    "model = LinearRegression()\n",
    "model.fit(X_train, Y_train)\n",
    "\n",
    "# storing the prediction value for X in Y.\n",
    "Y_pred = model.predict(X_test)"
   ]
  },
  {
   "cell_type": "code",
   "execution_count": null,
   "id": "9074db60",
   "metadata": {},
   "outputs": [],
   "source": [
    "# calculating mean squared error\n",
    "# this should be as small as possible\n",
    "mse = mean_squared_error(Y_test, Y_pred)\n",
    "print(\"Mean Squared Error:\", mse)\n",
    "\n",
    "# this should be positive in a range from 0 to 1\n",
    "r2 = r2_score(Y_test, Y_pred)\n",
    "print(\"R-squared (alternative method):\", r2)"
   ]
  },
  {
   "cell_type": "code",
   "execution_count": null,
   "id": "fe2e1a2b",
   "metadata": {},
   "outputs": [],
   "source": [
    "# defining an empty array to store the user inputted data\n",
    "patient_data = []"
   ]
  },
  {
   "cell_type": "code",
   "execution_count": null,
   "id": "9b186009",
   "metadata": {},
   "outputs": [],
   "source": [
    "while True:\n",
    "    print(\"Kindly enter the patient details below:\")\n",
    "    user_ip = {\n",
    "        'Pregnancies': int(input(\"Pregnancies: \")),\n",
    "        'Glucose': int(input(\"Glucose: \")),\n",
    "        'BloodPressure': int(input(\"BloodPressure: \")),\n",
    "        'SkinThicknesss': int(input(\"SkinThickness: \")),\n",
    "        'Insulin': int(input(\"Insulin: \")),\n",
    "        'BMI': float(input(\"BMI: \")),\n",
    "        'DiabetesPedigreeFunction': float(input(\"DiabetesPedigreeFunction: \")),\n",
    "        'Age': int(input(\"Age: \")),\n",
    "    }\n",
    "    patient_data.append(user_ip)\n",
    "\n",
    "    # Convert user input to DataFrame\n",
    "    user_input_d = pd.DataFrame([user_ip])\n",
    "\n",
    "    # Predict using the model\n",
    "    prediction = model.predict(user_input_d)\n",
    "\n",
    "    if prediction<=0.5:\n",
    "        prediction=0\n",
    "    else:\n",
    "        prediction=1\n",
    "\n",
    "    # Output prediction result\n",
    "    if prediction == 1:\n",
    "        print(\"Can be readmitted\")\n",
    "    else:\n",
    "        print(\"You are fit to go\")\n",
    "        \n",
    "    # to continue predicting after a prediction has been made\n",
    "    continue_input = input(\"Do you want to make another prediction? (yes/no): \")\n",
    "    \n",
    "    if continue_input.lower() != 'yes':\n",
    "        break\n"
   ]
  },
  {
   "cell_type": "code",
   "execution_count": null,
   "id": "bace599f",
   "metadata": {},
   "outputs": [],
   "source": [
    "# checking if patient_data is empty or not\n",
    "if not patient_data:\n",
    "    print(\"No patient data entered. Exiting program.\")\n",
    "else:\n",
    "    # Convert user input to DataFrame\n",
    "    user_input_df = pd.DataFrame(patient_data)"
   ]
  },
  {
   "cell_type": "code",
   "execution_count": null,
   "id": "6bc8c3ed",
   "metadata": {},
   "outputs": [],
   "source": [
    "import matplotlib.pyplot as plt\n",
    "# Bar Chart for the given user input.\n",
    "plt.figure(figsize=(8, 6))\n",
    "categories = user_input_df.columns\n",
    "values = user_input_df.values[0]\n",
    "plt.bar(categories, values, color='skyblue')\n",
    "plt.xlabel('Categories')\n",
    "plt.ylabel('Values')\n",
    "plt.title('Patient Data Bar Chart')\n",
    "plt.show()\n"
   ]
  },
  {
   "cell_type": "code",
   "execution_count": null,
   "id": "7ade086f",
   "metadata": {},
   "outputs": [],
   "source": [
    "# Pie Chart for given input\n",
    "plt.figure(figsize=(8, 6))\n",
    "labels = user_input_df.columns\n",
    "sizes = user_input_df.values[0]\n",
    "plt.pie(sizes, labels=labels, autopct='%1.1f%%', startangle=140)\n",
    "plt.axis('equal')\n",
    "plt.title('Patient Data Pie Chart')\n",
    "plt.show()"
   ]
  }
 ],
 "metadata": {
  "kernelspec": {
   "display_name": "Python 3 (ipykernel)",
   "language": "python",
   "name": "python3"
  },
  "language_info": {
   "codemirror_mode": {
    "name": "ipython",
    "version": 3
   },
   "file_extension": ".py",
   "mimetype": "text/x-python",
   "name": "python",
   "nbconvert_exporter": "python",
   "pygments_lexer": "ipython3",
   "version": "3.11.8"
  }
 },
 "nbformat": 4,
 "nbformat_minor": 5
}
