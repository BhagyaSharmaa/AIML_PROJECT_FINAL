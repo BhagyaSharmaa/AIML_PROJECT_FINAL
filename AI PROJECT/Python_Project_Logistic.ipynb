{
 "cells": [
  {
   "cell_type": "code",
   "execution_count": 1,
   "id": "017b9409",
   "metadata": {},
   "outputs": [],
   "source": [
    "import numpy as np\n",
    "import pandas as pd\n",
    "from sklearn.model_selection import train_test_split\n",
    "from sklearn.linear_model import LogisticRegression\n",
    "from sklearn.metrics import mean_squared_error, r2_score, accuracy_score\n",
    "from sklearn.preprocessing import StandardScaler\n",
    "import warnings\n",
    "\n",
    "# Ignore warnings\n",
    "warnings.filterwarnings(\"ignore\", message=\"X has feature names, but LogisticRegression was fitted without feature names\")"
   ]
  },
  {
   "cell_type": "code",
   "execution_count": 2,
   "id": "c758e732",
   "metadata": {},
   "outputs": [],
   "source": [
    "# Load the dataset\n",
    "df = pd.read_csv('diabetes.csv')\n",
    "\n",
    "# Drop NaN values\n",
    "df.dropna(inplace=True)\n",
    "\n",
    "# Standardize the features\n",
    "scaler = StandardScaler()\n",
    "df_scaled = scaler.fit_transform(df)\n",
    "\n",
    "# Split features and target variable\n",
    "X = df.drop(columns=\"Outcome\")\n",
    "Y = df[\"Outcome\"]"
   ]
  },
  {
   "cell_type": "code",
   "execution_count": 3,
   "id": "e78283e4",
   "metadata": {},
   "outputs": [],
   "source": [
    "# Standardize features\n",
    "X = scaler.fit_transform(X)"
   ]
  },
  {
   "cell_type": "code",
   "execution_count": 4,
   "id": "3525528e",
   "metadata": {},
   "outputs": [],
   "source": [
    "# Split dataset into train and test sets\n",
    "X_train, X_test, Y_train, Y_test = train_test_split(X, Y, test_size=0.2, random_state=42)"
   ]
  },
  {
   "cell_type": "code",
   "execution_count": 5,
   "id": "842d0f46",
   "metadata": {},
   "outputs": [],
   "source": [
    "# Train Logistic Regression model\n",
    "model = LogisticRegression(max_iter=1000)\n",
    "model.fit(X_train, Y_train)\n",
    "\n",
    "# Predict on test set\n",
    "Y_pred = model.predict(X_test)"
   ]
  },
  {
   "cell_type": "code",
   "execution_count": 6,
   "id": "bb4ff588",
   "metadata": {},
   "outputs": [
    {
     "name": "stdout",
     "output_type": "stream",
     "text": [
      "Mean Squared Error: 0.24675324675324675\n"
     ]
    }
   ],
   "source": [
    "# Calculate mean squared error\n",
    "mse = mean_squared_error(Y_test, Y_pred)\n",
    "print(\"Mean Squared Error:\", mse)\n"
   ]
  },
  {
   "cell_type": "code",
   "execution_count": 7,
   "id": "e096eeba",
   "metadata": {},
   "outputs": [
    {
     "name": "stdout",
     "output_type": "stream",
     "text": [
      "R-squared (alternative method): -0.074747474747475\n"
     ]
    }
   ],
   "source": [
    "# Calculate R-squared (not applicable for classification)\n",
    "r2 = r2_score(Y_test, Y_pred)\n",
    "print(\"R-squared (alternative method):\", r2)"
   ]
  },
  {
   "cell_type": "code",
   "execution_count": 8,
   "id": "998f6451",
   "metadata": {},
   "outputs": [
    {
     "name": "stdout",
     "output_type": "stream",
     "text": [
      "Accuracy: 0.7532467532467533\n"
     ]
    }
   ],
   "source": [
    "# Calculate accuracy\n",
    "accuracy = accuracy_score(Y_test, Y_pred)\n",
    "print(\"Accuracy:\", accuracy)\n"
   ]
  },
  {
   "cell_type": "code",
   "execution_count": 9,
   "id": "a6c689d0",
   "metadata": {},
   "outputs": [
    {
     "name": "stdout",
     "output_type": "stream",
     "text": [
      "Kindly enter the patient details below:\n",
      "Pregnancies: 10\n",
      "Glucose: 168\n",
      "BloodPressure: 74\n",
      "SkinThickness: 0\n",
      "Insulin: 0\n",
      "BMI: 38\n",
      "DiabetesPedigreeFunction: 0.537\n",
      "Age: 34\n",
      "Can be readmitted\n",
      "Do you want to make another prediction? (yes/no): no\n"
     ]
    }
   ],
   "source": [
    "while True:\n",
    "    print(\"Kindly enter the patient details below:\")\n",
    "    user_ip = {\n",
    "        'Pregnancies': int(input(\"Pregnancies: \")),\n",
    "        'Glucose': int(input(\"Glucose: \")),\n",
    "        'BloodPressure': int(input(\"BloodPressure: \")),\n",
    "        'SkinThicknesss': int(input(\"SkinThickness: \")),\n",
    "        'Insulin': int(input(\"Insulin: \")),\n",
    "        'BMI': float(input(\"BMI: \")),\n",
    "        'DiabetesPedigreeFunction': float(input(\"DiabetesPedigreeFunction: \")),\n",
    "        'Age': int(input(\"Age: \")),\n",
    "    }\n",
    "    # Convert user input to DataFrame\n",
    "    user_input_d = pd.DataFrame([user_ip])\n",
    "\n",
    "    # Predict using the model\n",
    "    prediction = model.predict(user_input_d)\n",
    "     # Output prediction result\n",
    "    if prediction == 1:\n",
    "        print(\"Can be readmitted\")\n",
    "    else:\n",
    "        print(\"You are fit to go\")\n",
    "        # Ask if the user wants to make another prediction\n",
    "    continue_input = input(\"Do you want to make another prediction? (yes/no): \")\n",
    "    \n",
    "    if continue_input.lower() != 'yes':\n",
    "        break"
   ]
  },
  {
   "cell_type": "code",
   "execution_count": 10,
   "id": "4dd1f2e2",
   "metadata": {},
   "outputs": [
    {
     "data": {
      "image/png": "[encoded data removed]",
      "text/plain": [
       "<Figure size 576x432 with 1 Axes>"
      ]
     },
     "metadata": {
      "needs_background": "light"
     },
     "output_type": "display_data"
    }
   ],
   "source": [
    "import numpy as np\n",
    "import matplotlib.pyplot as plt\n",
    "\n",
    "# Sample for bar chart\n",
    "categories = ['A', 'B', 'C', 'D', 'E']\n",
    "values = [25, 30, 20, 15, 10]\n",
    "\n",
    "# Bar chart\n",
    "plt.figure(figsize=(8, 6))\n",
    "plt.bar(categories, values, color='skyblue')\n",
    "plt.xlabel('Categories')\n",
    "plt.ylabel('Values')\n",
    "plt.title('Bar Chart')\n",
    "plt.show()"
   ]
  },
  {
   "cell_type": "code",
   "execution_count": 11,
   "id": "08b4b944",
   "metadata": {},
   "outputs": [
    {
     "data": {
      "image/png": "[encoded data removed]",
      "text/plain": [
       "<Figure size 576x432 with 1 Axes>"
      ]
     },
     "metadata": {},
     "output_type": "display_data"
    }
   ],
   "source": [
    "# Sample data for pie chart\n",
    "labels = ['Category A', 'Category B', 'Category C', 'Category D']\n",
    "sizes = [20, 30, 25, 25]\n",
    "\n",
    "# Pie chart\n",
    "plt.figure(figsize=(8, 6))\n",
    "plt.pie(sizes, labels=labels, autopct='%1.1f%%', startangle=140)\n",
    "plt.axis('equal')\n",
    "plt.title('Pie Chart')\n",
    "plt.show()"
   ]
  }
 ],
 "metadata": {
  "kernelspec": {
   "display_name": "Python 3 (ipykernel)",
   "language": "python",
   "name": "python3"
  },
  "language_info": {
   "codemirror_mode": {
    "name": "ipython",
    "version": 3
   },
   "file_extension": ".py",
   "mimetype": "text/x-python",
   "name": "python",
   "nbconvert_exporter": "python",
   "pygments_lexer": "ipython3",
   "version": "3.9.12"
  }
 },
 "nbformat": 4,
 "nbformat_minor": 5
}
